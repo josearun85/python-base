{
 "cells": [
  {
   "cell_type": "code",
   "execution_count": 1,
   "metadata": {},
   "outputs": [],
   "source": [
    "my_num = 1"
   ]
  },
  {
   "cell_type": "code",
   "execution_count": 2,
   "metadata": {},
   "outputs": [
    {
     "name": "stdout",
     "output_type": "stream",
     "text": [
      "1\n"
     ]
    }
   ],
   "source": [
    "print(my_num)"
   ]
  },
  {
   "cell_type": "code",
   "execution_count": 3,
   "metadata": {},
   "outputs": [
    {
     "name": "stdout",
     "output_type": "stream",
     "text": [
      "<class 'int'>\n"
     ]
    }
   ],
   "source": [
    "print(type(my_num))"
   ]
  },
  {
   "cell_type": "code",
   "execution_count": 4,
   "metadata": {},
   "outputs": [],
   "source": [
    "my_string = \"arun\""
   ]
  },
  {
   "cell_type": "code",
   "execution_count": 5,
   "metadata": {},
   "outputs": [
    {
     "name": "stdout",
     "output_type": "stream",
     "text": [
      "arun\n"
     ]
    }
   ],
   "source": [
    "print(my_string)"
   ]
  },
  {
   "cell_type": "code",
   "execution_count": 6,
   "metadata": {},
   "outputs": [
    {
     "name": "stdout",
     "output_type": "stream",
     "text": [
      "<class 'str'>\n"
     ]
    }
   ],
   "source": [
    "print(type(my_string))"
   ]
  },
  {
   "cell_type": "code",
   "execution_count": 7,
   "metadata": {},
   "outputs": [],
   "source": [
    "my_var = \"abc\" # 1 # 1.0 #True"
   ]
  },
  {
   "cell_type": "code",
   "execution_count": 8,
   "metadata": {},
   "outputs": [
    {
     "name": "stdout",
     "output_type": "stream",
     "text": [
      "abc\n"
     ]
    }
   ],
   "source": [
    "print(my_var)"
   ]
  },
  {
   "cell_type": "code",
   "execution_count": 9,
   "metadata": {},
   "outputs": [
    {
     "name": "stdout",
     "output_type": "stream",
     "text": [
      "<class 'str'>\n"
     ]
    }
   ],
   "source": [
    "print(type(my_var))"
   ]
  },
  {
   "cell_type": "code",
   "execution_count": 47,
   "metadata": {},
   "outputs": [],
   "source": [
    "my_list = [my_num, my_string]"
   ]
  },
  {
   "cell_type": "code",
   "execution_count": 14,
   "metadata": {},
   "outputs": [],
   "source": [
    "# tuple -> (), list -> []\n",
    "my_tuple = (my_num, my_string)"
   ]
  },
  {
   "cell_type": "code",
   "execution_count": 15,
   "metadata": {},
   "outputs": [
    {
     "name": "stdout",
     "output_type": "stream",
     "text": [
      "[1, 'arun']\n"
     ]
    }
   ],
   "source": [
    "print(my_list)"
   ]
  },
  {
   "cell_type": "code",
   "execution_count": 16,
   "metadata": {},
   "outputs": [
    {
     "name": "stdout",
     "output_type": "stream",
     "text": [
      "(1, 'arun')\n"
     ]
    }
   ],
   "source": [
    "print(my_tuple)"
   ]
  },
  {
   "cell_type": "code",
   "execution_count": 17,
   "metadata": {},
   "outputs": [
    {
     "name": "stdout",
     "output_type": "stream",
     "text": [
      "[5, 'arun']\n"
     ]
    }
   ],
   "source": [
    "my_list[0] = 5\n",
    "print(my_list)"
   ]
  },
  {
   "cell_type": "code",
   "execution_count": 18,
   "metadata": {},
   "outputs": [
    {
     "ename": "TypeError",
     "evalue": "'tuple' object does not support item assignment",
     "output_type": "error",
     "traceback": [
      "\u001b[0;31m---------------------------------------------------------------------------\u001b[0m",
      "\u001b[0;31mTypeError\u001b[0m                                 Traceback (most recent call last)",
      "\u001b[0;32m<ipython-input-18-af58b6b42b55>\u001b[0m in \u001b[0;36m<module>\u001b[0;34m()\u001b[0m\n\u001b[0;32m----> 1\u001b[0;31m \u001b[0mmy_tuple\u001b[0m\u001b[0;34m[\u001b[0m\u001b[0;36m0\u001b[0m\u001b[0;34m]\u001b[0m \u001b[0;34m=\u001b[0m \u001b[0;36m5\u001b[0m\u001b[0;34m\u001b[0m\u001b[0;34m\u001b[0m\u001b[0m\n\u001b[0m\u001b[1;32m      2\u001b[0m \u001b[0mprint\u001b[0m\u001b[0;34m(\u001b[0m\u001b[0mmy_tuple\u001b[0m\u001b[0;34m)\u001b[0m\u001b[0;34m\u001b[0m\u001b[0;34m\u001b[0m\u001b[0m\n",
      "\u001b[0;31mTypeError\u001b[0m: 'tuple' object does not support item assignment"
     ]
    }
   ],
   "source": [
    "my_tuple[0] = 5\n",
    "print(my_tuple)"
   ]
  },
  {
   "cell_type": "code",
   "execution_count": 19,
   "metadata": {},
   "outputs": [
    {
     "name": "stdout",
     "output_type": "stream",
     "text": [
      "{0, 1, 2}\n"
     ]
    }
   ],
   "source": [
    "sett = set([0,1,1,2])\n",
    "print(sett)\n",
    "\n",
    "# deduplicates a list\n",
    "my_list = list(set(my_list))"
   ]
  },
  {
   "cell_type": "code",
   "execution_count": 48,
   "metadata": {},
   "outputs": [],
   "source": [
    "# Dict {key:value} store\n",
    "my_dict = {\"experience\":1, \"name\":my_string, \"Engineer\" : my_var, \"hobbies\" : my_list, \"dob,cityofbirth\" : my_tuple}\n",
    "ripu_dict = {\"experience\":10, \"name\":\"RIPU\", \"Engineer\" : my_var, \"hobbies\" : [\"b\",\"c\"], \"dob,cityofbirth\" : my_tuple}\n",
    "tej_dict = {\"experience\":20, \"name\":\"Tejaswi\", \"Engineer\" : my_var, \"hobbies\" : my_list, \"dob,cityofbirth\" : my_tuple}"
   ]
  },
  {
   "cell_type": "code",
   "execution_count": 49,
   "metadata": {},
   "outputs": [
    {
     "name": "stdout",
     "output_type": "stream",
     "text": [
      "{'experience': 1, 'name': 'arun', 'Engineer': 'abc', 'hobbies': [1, 'arun'], 'dob,cityofbirth': (1, 'arun')}\n"
     ]
    }
   ],
   "source": [
    "print(my_dict)"
   ]
  },
  {
   "cell_type": "code",
   "execution_count": 50,
   "metadata": {},
   "outputs": [
    {
     "data": {
      "text/plain": [
       "1"
      ]
     },
     "execution_count": 50,
     "metadata": {},
     "output_type": "execute_result"
    }
   ],
   "source": [
    "my_dict[\"experience\"]"
   ]
  },
  {
   "cell_type": "code",
   "execution_count": 51,
   "metadata": {},
   "outputs": [],
   "source": [
    "our_dict = {\"arun\":my_dict, \"RIPU\":ripu_dict}"
   ]
  },
  {
   "cell_type": "code",
   "execution_count": 52,
   "metadata": {},
   "outputs": [
    {
     "data": {
      "text/plain": [
       "{'arun': {'experience': 1,\n",
       "  'name': 'arun',\n",
       "  'Engineer': 'abc',\n",
       "  'hobbies': [1, 'arun'],\n",
       "  'dob,cityofbirth': (1, 'arun')},\n",
       " 'RIPU': {'experience': 10,\n",
       "  'name': 'RIPU',\n",
       "  'Engineer': 'abc',\n",
       "  'hobbies': ['b', 'c'],\n",
       "  'dob,cityofbirth': (1, 'arun')}}"
      ]
     },
     "execution_count": 52,
     "metadata": {},
     "output_type": "execute_result"
    }
   ],
   "source": [
    "our_dict"
   ]
  },
  {
   "cell_type": "code",
   "execution_count": 53,
   "metadata": {},
   "outputs": [],
   "source": [
    "our_dict[\"tejaswi\"] = tej_dict"
   ]
  },
  {
   "cell_type": "code",
   "execution_count": 54,
   "metadata": {},
   "outputs": [
    {
     "data": {
      "text/plain": [
       "{'arun': {'experience': 1,\n",
       "  'name': 'arun',\n",
       "  'Engineer': 'abc',\n",
       "  'hobbies': [1, 'arun'],\n",
       "  'dob,cityofbirth': (1, 'arun')},\n",
       " 'RIPU': {'experience': 10,\n",
       "  'name': 'RIPU',\n",
       "  'Engineer': 'abc',\n",
       "  'hobbies': ['b', 'c'],\n",
       "  'dob,cityofbirth': (1, 'arun')},\n",
       " 'tejaswi': {'experience': 20,\n",
       "  'name': 'Tejaswi',\n",
       "  'Engineer': 'abc',\n",
       "  'hobbies': [1, 'arun'],\n",
       "  'dob,cityofbirth': (1, 'arun')}}"
      ]
     },
     "execution_count": 54,
     "metadata": {},
     "output_type": "execute_result"
    }
   ],
   "source": [
    "our_dict"
   ]
  },
  {
   "cell_type": "code",
   "execution_count": 55,
   "metadata": {},
   "outputs": [],
   "source": [
    "our_dict[\"RIPU\"][\"hobbies\"].append(\"Cooking\")"
   ]
  },
  {
   "cell_type": "code",
   "execution_count": 56,
   "metadata": {},
   "outputs": [
    {
     "data": {
      "text/plain": [
       "{'arun': {'experience': 1,\n",
       "  'name': 'arun',\n",
       "  'Engineer': 'abc',\n",
       "  'hobbies': [1, 'arun'],\n",
       "  'dob,cityofbirth': (1, 'arun')},\n",
       " 'RIPU': {'experience': 10,\n",
       "  'name': 'RIPU',\n",
       "  'Engineer': 'abc',\n",
       "  'hobbies': ['b', 'c', 'Cooking'],\n",
       "  'dob,cityofbirth': (1, 'arun')},\n",
       " 'tejaswi': {'experience': 20,\n",
       "  'name': 'Tejaswi',\n",
       "  'Engineer': 'abc',\n",
       "  'hobbies': [1, 'arun'],\n",
       "  'dob,cityofbirth': (1, 'arun')}}"
      ]
     },
     "execution_count": 56,
     "metadata": {},
     "output_type": "execute_result"
    }
   ],
   "source": [
    "our_dict"
   ]
  },
  {
   "cell_type": "code",
   "execution_count": 29,
   "metadata": {},
   "outputs": [
    {
     "name": "stdout",
     "output_type": "stream",
     "text": [
      "tejaswi\n",
      "{'experience': 20, 'name': 'Tejaswi', 'Engineer': 'abc', 'hobbies': [5, 'arun', 'Cooking'], 'dob,cityofbirth': (1, 'arun')}\n"
     ]
    }
   ],
   "source": [
    "for (k,v) in our_dict.items():\n",
    "    if(v[\"experience\"] == 20):\n",
    "        print(k)\n",
    "        print(v)"
   ]
  },
  {
   "cell_type": "code",
   "execution_count": 30,
   "metadata": {},
   "outputs": [
    {
     "data": {
      "text/plain": [
       "dict_items([('arun', {'experience': 1, 'name': 'arun', 'Engineer': 'abc', 'hobbies': [5, 'arun', 'Cooking'], 'dob,cityofbirth': (1, 'arun')}), ('RIPU', {'experience': 10, 'name': 'RIPU', 'Engineer': 'abc', 'hobbies': [5, 'arun', 'Cooking'], 'dob,cityofbirth': (1, 'arun')}), ('tejaswi', {'experience': 20, 'name': 'Tejaswi', 'Engineer': 'abc', 'hobbies': [5, 'arun', 'Cooking'], 'dob,cityofbirth': (1, 'arun')})])"
      ]
     },
     "execution_count": 30,
     "metadata": {},
     "output_type": "execute_result"
    }
   ],
   "source": [
    "our_dict.items()"
   ]
  },
  {
   "cell_type": "markdown",
   "metadata": {},
   "source": [
    "Problem statement\n",
    "1. create a dictionary called \"car\" with attributes \"make\",\"model\",\"year\",\"fuelTypes\"\n",
    "2. \"make\", \"model\" - type str\n",
    "3. \"year\" - type int\n",
    "4. \"fuelTypes\" - list of strings\n",
    "5. create a list of \"cars\" by appending randomly generated \"car\" into it using further random data to make a \"car\""
   ]
  },
  {
   "cell_type": "code",
   "execution_count": 80,
   "metadata": {},
   "outputs": [],
   "source": [
    "import random\n",
    "import string\n",
    "import numpy as np\n",
    "import json\n",
    "\n",
    "letters = string.ascii_lowercase\n",
    "years = np.arange(2000,2020)\n",
    "fuelTypes = [\"Petrol\",\"Diesel\"]\n",
    "carcount = 5\n",
    "def createCar():\n",
    "    car = {\"make\":\"\",\"model\":\"\",\"year\":0,\"fuelTypes\":[]}\n",
    "    car[\"make\"] = \"\".join(random.choice(letters) for i in range(5))\n",
    "    car[\"model\"] = \"\".join(random.choice(letters) for i in range(2))\n",
    "    car[\"year\"] = random.choice(years)\n",
    "    if(random.random()<0.5):\n",
    "        car[\"fuelTypes\"].append(fuelTypes[0])\n",
    "    elif(random.random()>0.8):\n",
    "        car[\"fuelTypes\"]=fuelTypes\n",
    "    else:\n",
    "        car[\"fuelTypes\"].append(fuelTypes[1])\n",
    "    return car\n",
    "\n",
    "cars=[]\n",
    "for i in range(0,carcount):\n",
    "    cars.append(createCar())"
   ]
  },
  {
   "cell_type": "code",
   "execution_count": 85,
   "metadata": {},
   "outputs": [
    {
     "name": "stdout",
     "output_type": "stream",
     "text": [
      "[{'make': 'ehmas', 'model': 'pp', 'year': 2015, 'fuelTypes': ['Diesel']}, {'make': 'uppln', 'model': 'oj', 'year': 2016, 'fuelTypes': ['Petrol']}, {'make': 'pgkdu', 'model': 'tt', 'year': 2013, 'fuelTypes': ['Petrol']}, {'make': 'tyfjr', 'model': 'lp', 'year': 2007, 'fuelTypes': ['Diesel']}, {'make': 'gkizi', 'model': 'jn', 'year': 2007, 'fuelTypes': ['Diesel']}]\n"
     ]
    }
   ],
   "source": [
    "print(cars)"
   ]
  },
  {
   "cell_type": "code",
   "execution_count": null,
   "metadata": {},
   "outputs": [],
   "source": []
  },
  {
   "cell_type": "code",
   "execution_count": null,
   "metadata": {},
   "outputs": [],
   "source": []
  }
 ],
 "metadata": {
  "kernelspec": {
   "display_name": "Python 3",
   "language": "python",
   "name": "python3"
  },
  "language_info": {
   "codemirror_mode": {
    "name": "ipython",
    "version": 3
   },
   "file_extension": ".py",
   "mimetype": "text/x-python",
   "name": "python",
   "nbconvert_exporter": "python",
   "pygments_lexer": "ipython3",
   "version": "3.6.7"
  }
 },
 "nbformat": 4,
 "nbformat_minor": 2
}
