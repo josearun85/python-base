{
 "cells": [
  {
   "cell_type": "code",
   "execution_count": null,
   "metadata": {},
   "outputs": [
    {
     "name": "stdout",
     "output_type": "stream",
     "text": [
      "0 1000 1000\n",
      "1 1000 1000\n",
      "2 1007 1006\n",
      "3 1001 1003\n",
      "4 1000 1008\n",
      "5 1006 1010\n",
      "6 1002 1014\n",
      "7 1000 1013\n",
      "8 1005 1012\n",
      "9 1009 1017\n",
      "10 1011 1012\n",
      "11 1009 1008\n",
      "12 1007 1013\n",
      "13 1005 1017\n",
      "14 1001 1017\n",
      "15 1004 1014\n",
      "16 1005 1017\n",
      "17 1004 1022\n",
      "18 1000 1021\n",
      "19 1001 1027\n",
      "20 1000 1030\n",
      "21 1005 1026\n",
      "22 1001 1022\n"
     ]
    }
   ],
   "source": [
    "import csv\n",
    "import random\n",
    "import time\n",
    "\n",
    "x_value = 0\n",
    "total_1 = 1000\n",
    "total_2 = 1000\n",
    "\n",
    "fieldnames = [\"x_value\", \"total_1\", \"total_2\"]\n",
    "\n",
    "\n",
    "with open('data.csv', 'w') as csv_file:\n",
    "    csv_writer = csv.DictWriter(csv_file, fieldnames=fieldnames)\n",
    "    csv_writer.writeheader()\n",
    "\n",
    "while True:\n",
    "\n",
    "    with open('data.csv', 'a') as csv_file:\n",
    "        csv_writer = csv.DictWriter(csv_file, fieldnames=fieldnames)\n",
    "\n",
    "        info = {\n",
    "            \"x_value\": x_value,\n",
    "            \"total_1\": total_1,\n",
    "            \"total_2\": total_2\n",
    "        }\n",
    "\n",
    "        csv_writer.writerow(info)\n",
    "        print(x_value, total_1, total_2)\n",
    "\n",
    "        x_value += 1\n",
    "        total_1 = total_1 + random.randint(-6, 8)\n",
    "        total_2 = total_2 + random.randint(-5, 6)\n",
    "\n",
    "    time.sleep(1)"
   ]
  },
  {
   "cell_type": "code",
   "execution_count": null,
   "metadata": {},
   "outputs": [],
   "source": []
  }
 ],
 "metadata": {
  "kernelspec": {
   "display_name": "Python 3",
   "language": "python",
   "name": "python3"
  },
  "language_info": {
   "codemirror_mode": {
    "name": "ipython",
    "version": 3
   },
   "file_extension": ".py",
   "mimetype": "text/x-python",
   "name": "python",
   "nbconvert_exporter": "python",
   "pygments_lexer": "ipython3",
   "version": "3.6.7"
  }
 },
 "nbformat": 4,
 "nbformat_minor": 2
}
