{
 "cells": [
  {
   "cell_type": "markdown",
   "metadata": {},
   "source": [
    "## What is programming?\n",
    "\n",
    "While there might be a hundred languages, but almost all of them will have the following four basic aspects\n",
    "\n",
    "### Input:\n",
    "Get data from the keyboard, a file, the network, or some other device.\n",
    "### Output:\n",
    "Display data on the screen, save it in a file, send it over the network, etc.\n",
    "### Math:\n",
    "Perform basic mathematical operations like addition and multiplication.\n",
    "### Conditional execution:\n",
    "Check for certain conditions and run the appropriate code.\n",
    "### Repetition:\n",
    "Perform some action repeatedly, usually with some variation."
   ]
  },
  {
   "cell_type": "code",
   "execution_count": 6,
   "metadata": {},
   "outputs": [],
   "source": [
    "# Data types\n",
    "\n",
    "a = 1\n",
    "a = \"1\"\n",
    "1+2\n",
    "\"1\"+\"2\"\n",
    "# 1. python has reserved some space in ram (list of addressess)\n",
    "# 2. python has a data type associated with that space"
   ]
  },
  {
   "cell_type": "code",
   "execution_count": 10,
   "metadata": {},
   "outputs": [
    {
     "data": {
      "text/plain": [
       "3.0"
      ]
     },
     "execution_count": 10,
     "metadata": {},
     "output_type": "execute_result"
    }
   ],
   "source": [
    "1+2.0 # int + float"
   ]
  },
  {
   "cell_type": "code",
   "execution_count": 12,
   "metadata": {},
   "outputs": [
    {
     "data": {
      "text/plain": [
       "'12'"
      ]
     },
     "execution_count": 12,
     "metadata": {},
     "output_type": "execute_result"
    }
   ],
   "source": [
    "\"1\"+str(2) # type casting"
   ]
  },
  {
   "cell_type": "code",
   "execution_count": 48,
   "metadata": {},
   "outputs": [
    {
     "name": "stdout",
     "output_type": "stream",
     "text": [
      "h\n",
      "1\n",
      "1\n",
      "[2, 2, 3, 4]\n",
      "True\n",
      "True\n"
     ]
    }
   ],
   "source": [
    "# Sequences\n",
    "# string\n",
    "mystring = \"hello there\" # represents a range of addresses and a data type\n",
    "print(mystring[0])\n",
    "\n",
    "# list, vector \n",
    "mylist = [1,2,\"3\",4,True] # not recommended to use mixed data types\n",
    "mylist = [1,2,3,4]\n",
    "print(mylist[0])\n",
    "\n",
    "# tuple\n",
    "mytuple = (1,2,3,4) # immutable, not change-able\n",
    "print(mytuple[0])\n",
    "\n",
    "mylist[0] = mylist[0] + 1\n",
    "print(mylist)\n",
    "\n",
    "# 1. convert to list\n",
    "mytuple = list(mytuple)\n",
    "# 2. append\n",
    "mytuple.append(5)\n",
    "# 3. convert back to tuple\n",
    "mytuple = tuple(mytuple)\n"
   ]
  },
  {
   "cell_type": "code",
   "execution_count": 50,
   "metadata": {},
   "outputs": [
    {
     "name": "stdout",
     "output_type": "stream",
     "text": [
      "True\n",
      "True\n"
     ]
    }
   ],
   "source": [
    "\n",
    "#print(type(mytuple)==tuple)\n",
    "#print(isinstance(mytuple,tuple))\n",
    "\n",
    "mytuple=(1,2,3,4)\n",
    "print(type(mytuple)== tuple)\n",
    "print(isinstance(mytuple,tuple))"
   ]
  },
  {
   "cell_type": "code",
   "execution_count": 33,
   "metadata": {},
   "outputs": [],
   "source": [
    "mylist.append(5)"
   ]
  },
  {
   "cell_type": "code",
   "execution_count": 34,
   "metadata": {},
   "outputs": [
    {
     "name": "stdout",
     "output_type": "stream",
     "text": [
      "[2, 2, 3, 4, 5, 5]\n"
     ]
    }
   ],
   "source": [
    "print(mylist)"
   ]
  },
  {
   "cell_type": "code",
   "execution_count": 42,
   "metadata": {},
   "outputs": [
    {
     "name": "stdout",
     "output_type": "stream",
     "text": [
      "<class 'bool'>\n"
     ]
    }
   ],
   "source": [
    "mybool = True\n",
    "mybool = False\n",
    "print(type(mybool))"
   ]
  },
  {
   "cell_type": "code",
   "execution_count": 41,
   "metadata": {},
   "outputs": [
    {
     "name": "stdout",
     "output_type": "stream",
     "text": [
      "{'name': 'Arun', 'gender': 'Male', 'city': 'Bangalore', 'skills': ['R', 'Python']}\n"
     ]
    }
   ],
   "source": [
    "# [], (), {}\n",
    "# dictionary\n",
    "mylist2 = [{\"name\":\"Arun\",\"gender\":\"Male\",\"city\":\"Bangalore\"},\n",
    "           {\"name\":\"Jose\",\"gender\":\"Male\",\"city\":\"Delhi\"}]\n",
    "mydictionary = {\"name\":\"Arun\",\"gender\":\"Male\",\"city\":\"Bangalore\",\n",
    "                \"skills\":[\"R\",\"Python\"]}\n",
    "print(mydictionary)\n"
   ]
  },
  {
   "cell_type": "code",
   "execution_count": null,
   "metadata": {},
   "outputs": [],
   "source": [
    "a = \"Honda\"\n",
    "carBrand = \"Honda\"\n",
    "car_brand = \"Honda\"\n",
    "theBestBrandOfCarOnThePlanet = \"Honda\"\n",
    "print(\"hello world\")"
   ]
  },
  {
   "cell_type": "code",
   "execution_count": 58,
   "metadata": {},
   "outputs": [
    {
     "name": "stdout",
     "output_type": "stream",
     "text": [
      "1\n",
      "2\n"
     ]
    }
   ],
   "source": [
    "# Math operations\n",
    "\n",
    "1 + 1\n",
    "1 - 1\n",
    "1 * 1\n",
    "1 / 1\n",
    "print(5 // 3)\n",
    "print(5 % 3)\n"
   ]
  },
  {
   "cell_type": "code",
   "execution_count": 4,
   "metadata": {},
   "outputs": [
    {
     "name": "stdout",
     "output_type": "stream",
     "text": [
      "im in else\n"
     ]
    }
   ],
   "source": [
    "# Conditional expressions ==, !=, >, <, >=, <=\n",
    "\n",
    "intnum = 2\n",
    "if intnum % 2 == 0 and intnum % 3 == 0:\n",
    "    print (str(intnum)+\" is even and divisible by 3\")\n",
    "if intnum>24:\n",
    "    print(\"dadfdaf\")\n",
    "else:\n",
    "    print(\"im in else\")\n",
    "\n",
    "#print (\" i am in block 1\")\n",
    "\n",
    "    \n",
    "# indent \n",
    "# even, even and divisible by 3, odd"
   ]
  },
  {
   "cell_type": "code",
   "execution_count": 77,
   "metadata": {},
   "outputs": [
    {
     "name": "stdout",
     "output_type": "stream",
     "text": [
      "1\n",
      "2\n",
      "3\n",
      "1\n",
      "3\n",
      "5\n",
      "7\n",
      "9\n"
     ]
    }
   ],
   "source": [
    "# Loops\n",
    "\n",
    "# for loop\n",
    "a = [1,2,3]\n",
    "\n",
    "for num in a:\n",
    "    print(num)\n",
    "    \n",
    "#  range (start,stop_before,step)\n",
    "for num in range(1,10,2):\n",
    "    print(num)\n",
    "\n",
    "\n",
    "# loop 1 - 100, but only display odd numbers"
   ]
  },
  {
   "cell_type": "code",
   "execution_count": 78,
   "metadata": {},
   "outputs": [
    {
     "name": "stdout",
     "output_type": "stream",
     "text": [
      "0\n",
      "1\n",
      "2\n",
      "3\n",
      "4\n"
     ]
    }
   ],
   "source": [
    "a=0\n",
    "while (a < 5):\n",
    "    print(a)\n",
    "    a=a+1"
   ]
  },
  {
   "cell_type": "code",
   "execution_count": 5,
   "metadata": {},
   "outputs": [],
   "source": [
    "# Functions\n",
    "\n",
    "# Python core \n",
    "# Packages you install\n",
    "# User defined"
   ]
  },
  {
   "cell_type": "code",
   "execution_count": 80,
   "metadata": {},
   "outputs": [
    {
     "name": "stdout",
     "output_type": "stream",
     "text": [
      "Enter your value: Arun\n"
     ]
    }
   ],
   "source": [
    "val = input(\"Enter your value: \") "
   ]
  },
  {
   "cell_type": "code",
   "execution_count": 81,
   "metadata": {},
   "outputs": [
    {
     "name": "stdout",
     "output_type": "stream",
     "text": [
      "Arun\n"
     ]
    }
   ],
   "source": [
    "print(val)"
   ]
  },
  {
   "cell_type": "code",
   "execution_count": 82,
   "metadata": {},
   "outputs": [
    {
     "name": "stdout",
     "output_type": "stream",
     "text": [
      "Requirement already satisfied: numpy in /home/ubuntu/anaconda3/lib/python3.6/site-packages (1.18.4)\r\n"
     ]
    }
   ],
   "source": [
    "!pip install <package_name>"
   ]
  },
  {
   "cell_type": "code",
   "execution_count": 110,
   "metadata": {},
   "outputs": [],
   "source": [
    "# User defined functions\n",
    "\n",
    "# Function definition and declaration\n",
    "\n",
    "def my_first_function():\n",
    "    print(\"Hello world\")\n",
    "\n",
    "def function_with_arguments(x):\n",
    "    print(x)\n",
    "\n",
    "def function_which_returns_value():\n",
    "    return \"Hello world\"\n",
    "\n",
    "def function_with_args_and_returns_value(x):\n",
    "    return x*3\n",
    "\n",
    "def function_which_return_multiple_values():\n",
    "    return {\"report\":\"abc\"}, {\"name\":\"Arun\"}\n",
    "\n",
    "def calc_perimeter_area(x,y):\n",
    "    return {\"perimerter\": 2*x + 2 * y, \"area\":x*y, \"x\": x, \"y\" : y }\n"
   ]
  },
  {
   "cell_type": "code",
   "execution_count": 84,
   "metadata": {},
   "outputs": [
    {
     "name": "stdout",
     "output_type": "stream",
     "text": [
      "Hello world\n"
     ]
    }
   ],
   "source": [
    "# Function call\n",
    "\n",
    "my_first_function()"
   ]
  },
  {
   "cell_type": "code",
   "execution_count": 91,
   "metadata": {},
   "outputs": [
    {
     "name": "stdout",
     "output_type": "stream",
     "text": [
      "Hello world\n",
      "None\n"
     ]
    }
   ],
   "source": [
    "my_response = function_with_arguments(\"Hello world\")\n",
    "print(my_response)"
   ]
  },
  {
   "cell_type": "code",
   "execution_count": 92,
   "metadata": {},
   "outputs": [
    {
     "name": "stdout",
     "output_type": "stream",
     "text": [
      "Hello world\n"
     ]
    }
   ],
   "source": [
    "my_response = function_which_returns_value()\n",
    "print(my_response)"
   ]
  },
  {
   "cell_type": "code",
   "execution_count": 99,
   "metadata": {},
   "outputs": [
    {
     "name": "stdout",
     "output_type": "stream",
     "text": [
      "[3, 1, 3, 1, 3, 1]\n"
     ]
    }
   ],
   "source": [
    "my_response = function_with_args_and_returns_value(\"3\")\n",
    "print(my_response)"
   ]
  },
  {
   "cell_type": "code",
   "execution_count": 105,
   "metadata": {},
   "outputs": [
    {
     "name": "stdout",
     "output_type": "stream",
     "text": [
      "Hello\n",
      "World\n"
     ]
    }
   ],
   "source": [
    "a , b = function_which_return_multiple_values()\n",
    "print(a)\n",
    "print(b)"
   ]
  },
  {
   "cell_type": "code",
   "execution_count": 106,
   "metadata": {},
   "outputs": [
    {
     "name": "stdout",
     "output_type": "stream",
     "text": [
      "<class 'str'>\n"
     ]
    }
   ],
   "source": [
    "print(type(a))"
   ]
  },
  {
   "cell_type": "code",
   "execution_count": 109,
   "metadata": {},
   "outputs": [
    {
     "data": {
      "text/plain": [
       "(6, 2)"
      ]
     },
     "execution_count": 109,
     "metadata": {},
     "output_type": "execute_result"
    }
   ],
   "source": [
    "x=1\n",
    "y=2\n",
    "calc_perimeter_area(x,y)"
   ]
  },
  {
   "cell_type": "code",
   "execution_count": 111,
   "metadata": {},
   "outputs": [
    {
     "data": {
      "text/plain": [
       "{'perimerter': 6, 'area': 2, 'x': 1, 'y': 2}"
      ]
     },
     "execution_count": 111,
     "metadata": {},
     "output_type": "execute_result"
    }
   ],
   "source": [
    "calc_perimeter_area(x,y)"
   ]
  },
  {
   "cell_type": "code",
   "execution_count": 112,
   "metadata": {},
   "outputs": [
    {
     "name": "stdout",
     "output_type": "stream",
     "text": [
      "{'perimerter': 8, 'area': 4, 'x': 2, 'y': 2}\n",
      "{'perimerter': 12, 'area': 9, 'x': 3, 'y': 3}\n",
      "{'perimerter': 16, 'area': 16, 'x': 4, 'y': 4}\n",
      "{'perimerter': 20, 'area': 25, 'x': 5, 'y': 5}\n",
      "{'perimerter': 24, 'area': 36, 'x': 6, 'y': 6}\n",
      "{'perimerter': 28, 'area': 49, 'x': 7, 'y': 7}\n",
      "{'perimerter': 32, 'area': 64, 'x': 8, 'y': 8}\n",
      "{'perimerter': 36, 'area': 81, 'x': 9, 'y': 9}\n"
     ]
    }
   ],
   "source": [
    "for i in range(2,10):\n",
    "    print(calc_perimeter_area(i,i))"
   ]
  },
  {
   "cell_type": "code",
   "execution_count": 123,
   "metadata": {},
   "outputs": [],
   "source": [
    "# two dimensional array \n",
    "# list of lists\n",
    "\n",
    "ndArray = [\n",
    "    [\n",
    "        [1,\"2\",3],[3,4,True],[6,7,8]\n",
    "    ],\n",
    "    \n",
    "    [3,4,5],\n",
    "    \n",
    "    [5,6,7]\n",
    "]\n"
   ]
  },
  {
   "cell_type": "code",
   "execution_count": 124,
   "metadata": {},
   "outputs": [
    {
     "name": "stdout",
     "output_type": "stream",
     "text": [
      "[[[1, '2', 3], [3, 4, True], [6, 7, 8]], [3, 4, 5], [5, 6, 7]]\n",
      "[3, 4, 5]\n",
      "5\n",
      "6\n"
     ]
    }
   ],
   "source": [
    "print(ndArray)\n",
    "print(ndArray[1])\n",
    "print(ndArray[1][2])\n",
    "print(ndArray[0][2][0])"
   ]
  },
  {
   "cell_type": "code",
   "execution_count": null,
   "metadata": {},
   "outputs": [],
   "source": []
  }
 ],
 "metadata": {
  "kernelspec": {
   "display_name": "Python 3",
   "language": "python",
   "name": "python3"
  },
  "language_info": {
   "codemirror_mode": {
    "name": "ipython",
    "version": 3
   },
   "file_extension": ".py",
   "mimetype": "text/x-python",
   "name": "python",
   "nbconvert_exporter": "python",
   "pygments_lexer": "ipython3",
   "version": "3.6.7"
  }
 },
 "nbformat": 4,
 "nbformat_minor": 2
}
